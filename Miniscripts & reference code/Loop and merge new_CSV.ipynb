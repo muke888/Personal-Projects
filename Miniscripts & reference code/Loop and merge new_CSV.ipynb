{
 "cells": [
  {
   "cell_type": "code",
   "execution_count": null,
   "metadata": {
    "collapsed": true
   },
   "outputs": [],
   "source": [
    "import os\n",
    "import time\n",
    "while True:\n",
    "    time.sleep(2)\n",
    "    print('hey')\n",
    "    #if os.path.exists(r\"C:\\Users\\AA\\Desktop\\H\\trigger.txt\"):\n",
    "    if os.path.exists(r\"C:\\Users\\ME\\Desktop\\Testing\\New.xlsx\"):\n",
    "        break"
   ]
  },
  {
   "cell_type": "code",
   "execution_count": 1,
   "metadata": {
    "collapsed": true
   },
   "outputs": [],
   "source": [
    "import pandas as pd\n",
    "\n",
    "old = pd.read_csv(r\"C:\\Users\\ME\\Desktop\\Testing\\OLD.csv\")\n",
    "new = pd.read_csv(r\"C:\\Users\\ME\\Desktop\\Testing\\NEW.csv\")\n",
    "\n",
    "removeTheseIndexes = []\n",
    "oldPK = old.PK # your 'Key' column here\n",
    "newPK = new.PK # same\n",
    "\n",
    "for i in range(0, len(oldPK)):\n",
    "    firstValue = oldPK[i]\n",
    "    for j in range(0, len(newPK)):\n",
    "        copycat = newPK[j]\n",
    "        if firstValue == copycat:\n",
    "            removeTheseIndexes.append(j)\n",
    "\n",
    "new1 = new.drop(removeTheseIndexes, inplace = False)\n",
    "old = old.append(new1)\n",
    "old = old.reset_index(drop=True)\n"
   ]
  },
  {
   "cell_type": "code",
   "execution_count": 2,
   "metadata": {
    "collapsed": true
   },
   "outputs": [],
   "source": [
    "old_PK = old.set_index('PK')\n",
    "new_PK = new.set_index('PK')\n",
    "\n",
    "\n",
    "df = old_PK.loc[:, old_PK.columns.union(new_PK.columns)]\n",
    "df.update(new_PK)\n",
    "df.insert(loc=0, column='PK', value=df.index)\n",
    "df.to_csv(r\"C:\\Users\\ME\\Desktop\\Testing\\OLD.csv\", index=None)"
   ]
  }
 ],
 "metadata": {
  "kernelspec": {
   "display_name": "Python 3",
   "language": "python",
   "name": "python3"
  },
  "language_info": {
   "codemirror_mode": {
    "name": "ipython",
    "version": 3
   },
   "file_extension": ".py",
   "mimetype": "text/x-python",
   "name": "python",
   "nbconvert_exporter": "python",
   "pygments_lexer": "ipython3",
   "version": "3.6.2"
  }
 },
 "nbformat": 4,
 "nbformat_minor": 2
}
