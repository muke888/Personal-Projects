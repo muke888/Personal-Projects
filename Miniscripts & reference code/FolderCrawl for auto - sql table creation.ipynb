{
 "cells": [
  {
   "cell_type": "code",
   "execution_count": 1,
   "metadata": {
    "collapsed": true
   },
   "outputs": [],
   "source": [
    "import pandas as pd\n",
    "import numpy as np\n",
    "import os\n",
    "\n",
    "def intersperse(lst, item):\n",
    "    result = [item] * (len(lst) * 2)\n",
    "    result[0::2] = lst\n",
    "    return result\n",
    "\n",
    "directory=r\"C:\\Users\\ME\\Desktop\\Testing\""
   ]
  },
  {
   "cell_type": "code",
   "execution_count": 2,
   "metadata": {
    "collapsed": true
   },
   "outputs": [],
   "source": [
    "#Changing headers to lowercase and substituting space with underscore\n",
    "\n",
    "for filename in os.listdir(directory):\n",
    "    if filename.endswith(\".csv\"):\n",
    "        df=pd.read_csv(directory+\"\\\\\"+filename, encoding = \"ISO-8859-1\")\n",
    "        df.columns = [x.lower().replace(\" \", \"_\") for x in df.columns]\n",
    "        df.to_csv(directory+\"\\\\\"+filename,index=None)"
   ]
  },
  {
   "cell_type": "code",
   "execution_count": 3,
   "metadata": {},
   "outputs": [
    {
     "data": {
      "text/plain": [
       "['odata_crm_cases',\n",
       " 'odata_crm_case_resolutions',\n",
       " 'odata_crm_customers',\n",
       " 'odata_crm_cust_payroll']"
      ]
     },
     "execution_count": 3,
     "metadata": {},
     "output_type": "execute_result"
    }
   ],
   "source": [
    "#Looping through directory and creating a list of Filenames\n",
    "Fname=[]\n",
    "for filename in os.listdir(directory):\n",
    "    if filename.endswith(\".csv\"): \n",
    "        Fname.append(filename.replace(\".csv\",\"\"))\n",
    "        \n",
    "Fname"
   ]
  },
  {
   "cell_type": "code",
   "execution_count": 4,
   "metadata": {
    "collapsed": true
   },
   "outputs": [],
   "source": [
    "# Crawling through directory, opening files, getting dataframe columns as list, applying intersperse function, appending\n",
    "\n",
    "list2=[]\n",
    "for filename in os.listdir(directory):\n",
    "    if filename.endswith(\".csv\"): \n",
    "        list2.append(intersperse(pd.read_csv(directory+\"\\\\\"+filename).columns.tolist(),'text'))"
   ]
  },
  {
   "cell_type": "code",
   "execution_count": 5,
   "metadata": {
    "collapsed": true
   },
   "outputs": [],
   "source": [
    "#Joining the strings in the sublists\n",
    "\n",
    "list2s = []\n",
    "for item in list2:\n",
    "    list2s.append(' '.join(map(str, item)))"
   ]
  },
  {
   "cell_type": "code",
   "execution_count": 6,
   "metadata": {
    "collapsed": true
   },
   "outputs": [],
   "source": [
    "# Adding comma behind all 'text' and removing the last comma\n",
    "\n",
    "list2s = [x.replace(\"text\", \"text,\") for x in list2s]\n",
    "flist=[]\n",
    "for item in list2s:\n",
    "    flist.append(item[:-1])"
   ]
  },
  {
   "cell_type": "code",
   "execution_count": 8,
   "metadata": {
    "collapsed": true
   },
   "outputs": [],
   "source": [
    "# Creating appropriate formatting for sql database input\n",
    "\n",
    "kk=[]\n",
    "for item in flist:\n",
    "    kk.append(\"CREATE TABLE \"+Fname[(flist.index(item))]+\"(\"+item+\");\")"
   ]
  },
  {
   "cell_type": "code",
   "execution_count": 9,
   "metadata": {
    "collapsed": true
   },
   "outputs": [],
   "source": [
    "#Counting first column totals\n",
    "\n",
    "list3=[]\n",
    "for filename in os.listdir(directory):\n",
    "    if filename.endswith(\".csv\"): \n",
    "        list3.append(len(pd.read_csv(directory+\"\\\\\"+filename).iloc[:,0]))"
   ]
  },
  {
   "cell_type": "code",
   "execution_count": 11,
   "metadata": {
    "collapsed": true
   },
   "outputs": [],
   "source": [
    "# Putting lists together as Dataframe and saving as csv\n",
    "\n",
    "final = pd.DataFrame(\n",
    "    {'Filename': Fname,\n",
    "     'Columns': kk,\n",
    "     'Count1stCol': list3\n",
    "    })\n",
    "final = final[['Filename','Count1stCol','Columns']]\n",
    "final.to_csv(r\"C:\\Users\\ME\\Desktop\\Proj\\Test3.csv\", index=None)"
   ]
  },
  {
   "cell_type": "code",
   "execution_count": null,
   "metadata": {
    "collapsed": true
   },
   "outputs": [],
   "source": []
  },
  {
   "cell_type": "code",
   "execution_count": null,
   "metadata": {
    "collapsed": true
   },
   "outputs": [],
   "source": []
  }
 ],
 "metadata": {
  "kernelspec": {
   "display_name": "Python 3",
   "language": "python",
   "name": "python3"
  },
  "language_info": {
   "codemirror_mode": {
    "name": "ipython",
    "version": 3
   },
   "file_extension": ".py",
   "mimetype": "text/x-python",
   "name": "python",
   "nbconvert_exporter": "python",
   "pygments_lexer": "ipython3",
   "version": "3.6.2"
  }
 },
 "nbformat": 4,
 "nbformat_minor": 2
}
