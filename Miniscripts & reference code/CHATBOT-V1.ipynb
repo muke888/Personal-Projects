{
 "cells": [
  {
   "cell_type": "code",
   "execution_count": 3,
   "metadata": {
    "collapsed": true
   },
   "outputs": [],
   "source": [
    "import random\n",
    "import re\n",
    "import pandas as pd\n",
    "df1 = pd.DataFrame({\"Greetings\": [\"Greetings to you too\", \"hi\", \"hello\", \"hey\", \"greetings\", \"sup\", \"what's up\", \"yo\"]})\n",
    "df2 = pd.DataFrame({\"Farewell\": [\"GoodBye\", \"see you\", \"bye\", \"laters\"]})\n",
    "Error_Messages = [\"Did not understand, can you ask in different words?\", \"What?! Say again, can't understand..\", \"No idea what you are talking about, come again?\",\n",
    "      \"Is that even English? Try again\", \"Talk to the hand, coz SMARTBOT does not compute what you are saying\"]\n",
    "frames = [df1, df2]\n",
    "df3=pd.concat(frames, axis=1, join='outer', copy=True)\n",
    "class BreakIt(Exception): pass\n",
    "\n",
    "def check_for_greet():\n",
    "     while True:\n",
    "        try:\n",
    "            sentence = input(\"Start chatting:  \")\n",
    "            wordList = re.sub(\"[^\\w]\", \" \",  sentence).split()\n",
    "            if sentence == \"$$$\":\n",
    "                    return \"END\"\n",
    "                \n",
    "            word_found = False\n",
    "            for col in df3.columns:\n",
    "                if sentence.lower() in df3[col].values:\n",
    "                    print (df3[col][0])\n",
    "                    word_found = True           \n",
    "            if word_found:\n",
    "                continue   \n",
    "            \n",
    "            \n",
    "            word_found = False\n",
    "            for word in wordList:\n",
    "                for col in df3.columns:\n",
    "                    if word.lower() in df3[col].values:\n",
    "                        print (df3[col][0])\n",
    "                        word_found = True\n",
    "                if word_found:\n",
    "                    break\n",
    "                if not word_found:\n",
    "                    print(random.choice(Error_Messages))\n",
    "                    break\n",
    "            \n",
    "        # Breaking out of loop and pass\n",
    "        except BreakIt:\n",
    "            pass"
   ]
  },
  {
   "cell_type": "code",
   "execution_count": 4,
   "metadata": {},
   "outputs": [
    {
     "name": "stdout",
     "output_type": "stream",
     "text": [
      "Start chatting:  sdsd\n",
      "No idea what you are talking about, come again?\n",
      "Start chatting:  sdlkasd\n",
      "Did not understand, can you ask in different words?\n",
      "Start chatting:  dfaf\n",
      "Talk to the hand, coz SMARTBOT does not compute what you are saying\n",
      "Start chatting:  $$$\n"
     ]
    },
    {
     "data": {
      "text/plain": [
       "'END'"
      ]
     },
     "execution_count": 4,
     "metadata": {},
     "output_type": "execute_result"
    }
   ],
   "source": [
    "check_for_greet()"
   ]
  }
 ],
 "metadata": {
  "kernelspec": {
   "display_name": "Python 3",
   "language": "python",
   "name": "python3"
  },
  "language_info": {
   "codemirror_mode": {
    "name": "ipython",
    "version": 3
   },
   "file_extension": ".py",
   "mimetype": "text/x-python",
   "name": "python",
   "nbconvert_exporter": "python",
   "pygments_lexer": "ipython3",
   "version": "3.6.2"
  }
 },
 "nbformat": 4,
 "nbformat_minor": 2
}
