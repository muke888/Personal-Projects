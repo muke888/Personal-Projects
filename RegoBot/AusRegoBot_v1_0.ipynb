{
  "nbformat": 4,
  "nbformat_minor": 0,
  "metadata": {
    "colab": {
      "name": "AusRegoBot v1.0.ipynb",
      "provenance": [],
      "collapsed_sections": [],
      "toc_visible": true,
      "include_colab_link": true
    },
    "kernelspec": {
      "name": "python3",
      "display_name": "Python 3"
    }
  },
  "cells": [
    {
      "cell_type": "markdown",
      "metadata": {
        "id": "view-in-github",
        "colab_type": "text"
      },
      "source": [
        "<a href=\"https://colab.research.google.com/github/muke888/Personal-Projects/blob/master/RegoBot/AusRegoBot_v1_0.ipynb\" target=\"_parent\"><img src=\"https://colab.research.google.com/assets/colab-badge.svg\" alt=\"Open In Colab\"/></a>"
      ]
    },
    {
      "cell_type": "markdown",
      "metadata": {
        "id": "XSmQFuMvTrf8",
        "colab_type": "text"
      },
      "source": [
        "## VERSION 2"
      ]
    },
    {
      "cell_type": "code",
      "metadata": {
        "id": "COOnHPgST5id",
        "colab_type": "code",
        "colab": {
          "base_uri": "https://localhost:8080/",
          "height": 1000
        },
        "outputId": "70eaa49f-ba8b-4f23-be43-10bbdcf33ebd"
      },
      "source": [
        "#! cat /etc/os-release\n",
        "!pip install selenium -q\n",
        "!apt-get update -q # to update ubuntu to correctly run apt install\n",
        "!apt install chromium-chromedriver -q\n",
        "!cp /usr/lib/chromium-browser/chromedriver /usr/bin\n",
        "import sys\n",
        "sys.path.insert(0,'/usr/lib/chromium-browser/chromedriver')\n",
        "from selenium import webdriver\n",
        "chrome_options = webdriver.ChromeOptions()\n",
        "chrome_options.add_experimental_option('prefs', {'profile.managed_default_content_settings.images': 2}) # Avoid loading images\n",
        "chrome_options.add_experimental_option('prefs', {'disk-cache-size': 2000000000}) #4096\n",
        "chrome_options.add_argument('--headless')\n",
        "chrome_options.add_argument('--no-sandbox')\n",
        "chrome_options.add_argument('--disable-dev-shm-usage')\n",
        "#chrome_options.add_argument('--window-size=1920,1080')\n",
        "#chrome_options.add_argument('--incognito')\n",
        "#chrome_options.add_argument('--disable-gpu')\n",
        "from selenium.webdriver.common.by import By\n",
        "from selenium.webdriver.support.ui import WebDriverWait\n",
        "from selenium.webdriver.support import expected_conditions as EC\n",
        "from selenium.webdriver.common.keys import Keys\n",
        "import re, time\n",
        "from bs4 import BeautifulSoup\n",
        "from collections import defaultdict"
      ],
      "execution_count": 1,
      "outputs": [
        {
          "output_type": "stream",
          "text": [
            "\u001b[K     |████████████████████████████████| 911kB 2.9MB/s \n",
            "\u001b[?25hGet:1 http://security.ubuntu.com/ubuntu bionic-security InRelease [88.7 kB]\n",
            "Get:2 https://cloud.r-project.org/bin/linux/ubuntu bionic-cran35/ InRelease [3,626 B]\n",
            "Ign:3 https://developer.download.nvidia.com/compute/cuda/repos/ubuntu1804/x86_64  InRelease\n",
            "Hit:4 http://archive.ubuntu.com/ubuntu bionic InRelease\n",
            "Get:5 http://ppa.launchpad.net/graphics-drivers/ppa/ubuntu bionic InRelease [21.3 kB]\n",
            "Ign:6 https://developer.download.nvidia.com/compute/machine-learning/repos/ubuntu1804/x86_64  InRelease\n",
            "Hit:7 https://developer.download.nvidia.com/compute/cuda/repos/ubuntu1804/x86_64  Release\n",
            "Get:8 https://developer.download.nvidia.com/compute/machine-learning/repos/ubuntu1804/x86_64  Release [564 B]\n",
            "Get:9 https://developer.download.nvidia.com/compute/machine-learning/repos/ubuntu1804/x86_64  Release.gpg [833 B]\n",
            "Get:10 http://archive.ubuntu.com/ubuntu bionic-updates InRelease [88.7 kB]\n",
            "Get:11 http://ppa.launchpad.net/marutter/c2d4u3.5/ubuntu bionic InRelease [15.4 kB]\n",
            "Get:12 https://cloud.r-project.org/bin/linux/ubuntu bionic-cran35/ Packages [96.1 kB]\n",
            "Get:13 http://archive.ubuntu.com/ubuntu bionic-backports InRelease [74.6 kB]\n",
            "Get:14 http://security.ubuntu.com/ubuntu bionic-security/main amd64 Packages [1,089 kB]\n",
            "Get:15 http://security.ubuntu.com/ubuntu bionic-security/restricted amd64 Packages [116 kB]\n",
            "Get:16 http://security.ubuntu.com/ubuntu bionic-security/multiverse amd64 Packages [10.1 kB]\n",
            "Get:17 http://security.ubuntu.com/ubuntu bionic-security/universe amd64 Packages [897 kB]\n",
            "Get:19 https://developer.download.nvidia.com/compute/machine-learning/repos/ubuntu1804/x86_64  Packages [47.5 kB]\n",
            "Get:20 http://ppa.launchpad.net/graphics-drivers/ppa/ubuntu bionic/main amd64 Packages [43.0 kB]\n",
            "Get:21 http://ppa.launchpad.net/marutter/c2d4u3.5/ubuntu bionic/main Sources [1,867 kB]\n",
            "Get:22 http://archive.ubuntu.com/ubuntu bionic-updates/multiverse amd64 Packages [27.7 kB]\n",
            "Get:23 http://archive.ubuntu.com/ubuntu bionic-updates/restricted amd64 Packages [132 kB]\n",
            "Get:24 http://archive.ubuntu.com/ubuntu bionic-updates/universe amd64 Packages [1,425 kB]\n",
            "Get:25 http://archive.ubuntu.com/ubuntu bionic-updates/main amd64 Packages [1,384 kB]\n",
            "Get:26 http://ppa.launchpad.net/marutter/c2d4u3.5/ubuntu bionic/main amd64 Packages [901 kB]\n",
            "Fetched 8,331 kB in 4s (2,272 kB/s)\n",
            "Reading package lists...\n",
            "Reading package lists...\n",
            "Building dependency tree...\n",
            "Reading state information...\n",
            "The following package was automatically installed and is no longer required:\n",
            "  libnvidia-common-440\n",
            "Use 'apt autoremove' to remove it.\n",
            "The following additional packages will be installed:\n",
            "  chromium-browser chromium-browser-l10n chromium-codecs-ffmpeg-extra\n",
            "Suggested packages:\n",
            "  webaccounts-chromium-extension unity-chromium-extension adobe-flashplugin\n",
            "The following NEW packages will be installed:\n",
            "  chromium-browser chromium-browser-l10n chromium-chromedriver\n",
            "  chromium-codecs-ffmpeg-extra\n",
            "0 upgraded, 4 newly installed, 0 to remove and 77 not upgraded.\n",
            "Need to get 79.2 MB of archives.\n",
            "After this operation, 268 MB of additional disk space will be used.\n",
            "Get:1 http://archive.ubuntu.com/ubuntu bionic-updates/universe amd64 chromium-codecs-ffmpeg-extra amd64 85.0.4183.83-0ubuntu0.18.04.2 [1,118 kB]\n",
            "Get:2 http://archive.ubuntu.com/ubuntu bionic-updates/universe amd64 chromium-browser amd64 85.0.4183.83-0ubuntu0.18.04.2 [70.3 MB]\n",
            "Get:3 http://archive.ubuntu.com/ubuntu bionic-updates/universe amd64 chromium-browser-l10n all 85.0.4183.83-0ubuntu0.18.04.2 [3,431 kB]\n",
            "Get:4 http://archive.ubuntu.com/ubuntu bionic-updates/universe amd64 chromium-chromedriver amd64 85.0.4183.83-0ubuntu0.18.04.2 [4,412 kB]\n",
            "Fetched 79.2 MB in 3s (24.4 MB/s)\n",
            "Selecting previously unselected package chromium-codecs-ffmpeg-extra.\n",
            "(Reading database ... 144579 files and directories currently installed.)\n",
            "Preparing to unpack .../chromium-codecs-ffmpeg-extra_85.0.4183.83-0ubuntu0.18.04.2_amd64.deb ...\n",
            "Unpacking chromium-codecs-ffmpeg-extra (85.0.4183.83-0ubuntu0.18.04.2) ...\n",
            "Selecting previously unselected package chromium-browser.\n",
            "Preparing to unpack .../chromium-browser_85.0.4183.83-0ubuntu0.18.04.2_amd64.deb ...\n",
            "Unpacking chromium-browser (85.0.4183.83-0ubuntu0.18.04.2) ...\n",
            "Selecting previously unselected package chromium-browser-l10n.\n",
            "Preparing to unpack .../chromium-browser-l10n_85.0.4183.83-0ubuntu0.18.04.2_all.deb ...\n",
            "Unpacking chromium-browser-l10n (85.0.4183.83-0ubuntu0.18.04.2) ...\n",
            "Selecting previously unselected package chromium-chromedriver.\n",
            "Preparing to unpack .../chromium-chromedriver_85.0.4183.83-0ubuntu0.18.04.2_amd64.deb ...\n",
            "Unpacking chromium-chromedriver (85.0.4183.83-0ubuntu0.18.04.2) ...\n",
            "Setting up chromium-codecs-ffmpeg-extra (85.0.4183.83-0ubuntu0.18.04.2) ...\n",
            "Setting up chromium-browser (85.0.4183.83-0ubuntu0.18.04.2) ...\n",
            "update-alternatives: using /usr/bin/chromium-browser to provide /usr/bin/x-www-browser (x-www-browser) in auto mode\n",
            "update-alternatives: using /usr/bin/chromium-browser to provide /usr/bin/gnome-www-browser (gnome-www-browser) in auto mode\n",
            "Setting up chromium-chromedriver (85.0.4183.83-0ubuntu0.18.04.2) ...\n",
            "Setting up chromium-browser-l10n (85.0.4183.83-0ubuntu0.18.04.2) ...\n",
            "Processing triggers for hicolor-icon-theme (0.17-2) ...\n",
            "Processing triggers for mime-support (3.60ubuntu1) ...\n",
            "Processing triggers for man-db (2.8.3-2ubuntu0.1) ...\n",
            "cp: '/usr/lib/chromium-browser/chromedriver' and '/usr/bin/chromedriver' are the same file\n"
          ],
          "name": "stdout"
        }
      ]
    },
    {
      "cell_type": "code",
      "metadata": {
        "id": "aenHreZXUr6D",
        "colab_type": "code",
        "colab": {}
      },
      "source": [
        "def WA(rego):\n",
        "  st=time.time()\n",
        "  with webdriver.Chrome('chromedriver',options=chrome_options) as wd:\n",
        "    wd.get('https://online.transport.wa.gov.au/webExternal/registration/')\n",
        "    current_url = wd.current_url\n",
        "    element = wd.find_element_by_xpath('/html/body/span/div/div[3]/div/div/form/ol[1]/li[1]/div/input')\n",
        "    element.send_keys(str(rego))\n",
        "    wd.find_element_by_xpath('/html/body/span/div/div[3]/div/div/form/ol[2]/li/div/input').click()\n",
        "    time.sleep(4)\n",
        "    try:\n",
        "      result = wd.find_element_by_css_selector('#content > div > div.licensing-big-form > table > tbody > tr:nth-child(2) > td.data > span').text\n",
        "      print(result, round(time.time()-st,2))\n",
        "    except:\n",
        "      print('no rego found', round(time.time()-st,2))\n",
        "      wd.save_screenshot('screenie1.png')\n"
      ],
      "execution_count": 2,
      "outputs": []
    },
    {
      "cell_type": "code",
      "metadata": {
        "id": "D6AzgwKkLVL9",
        "colab_type": "code",
        "colab": {}
      },
      "source": [
        "def QLD(rego):\n",
        "  st=time.time()\n",
        "  with webdriver.Chrome('chromedriver',options=chrome_options) as wd:\n",
        "    wd.get('https://www.service.transport.qld.gov.au/checkrego/application/TermAndConditions.xhtml')\n",
        "    current_url = wd.current_url\n",
        "    wd.find_element_by_id('tAndCForm:confirmButton').click()\n",
        "    WebDriverWait(wd, 5).until(EC.url_changes(current_url))\n",
        "    element = wd.find_element_by_id('vehicleSearchForm:plateNumber')\n",
        "    element.send_keys(rego)\n",
        "    wd.find_element_by_id('vehicleSearchForm:confirmButton').click()  \n",
        "    try:\n",
        "      WebDriverWait(wd, 5).until(EC.url_changes(current_url))\n",
        "      result = wd.find_element_by_css_selector('#j_id_2d > dl:nth-child(2) > dd:nth-child(4)').text\n",
        "      print(result, round(time.time()-st,2))\n",
        "      #data['QLD'] = result, round(time.time()-st,2)\n",
        "    except:\n",
        "      print('no rego found', round(time.time()-st,2))\n",
        "      #wd.save_screenshot('screenie4.png')\n"
      ],
      "execution_count": 3,
      "outputs": []
    },
    {
      "cell_type": "code",
      "metadata": {
        "id": "FMt2qlkTOp44",
        "colab_type": "code",
        "colab": {}
      },
      "source": [
        "def ACT(rego):\n",
        "  st=time.time()\n",
        "  with webdriver.Chrome('chromedriver',options=chrome_options) as wd:\n",
        "    wd.get('https://rego.act.gov.au/regosoawicket/public/reg/FindRegistrationPage')\n",
        "    #current_url = wd.current_url\n",
        "    element = wd.find_element_by_id('plateNumber')\n",
        "    element.send_keys(rego)\n",
        "    element.send_keys(Keys.RETURN)\n",
        "    try:\n",
        "      #WebDriverWait(wd, 15).until(EC.presence_of_element_located((By.CSS_SELECTOR, '#idb > div > div > div > div > div > table > tbody > tr > td:nth-child(1) > a > span')))\n",
        "      time.sleep(2)\n",
        "      #WebDriverWait(wd, 10)#.until(EC.url_changes(current_url))\n",
        "      #wd.save_screenshot('screenie2.png')\n",
        "      current_url = wd.current_url\n",
        "      wd.find_element_by_css_selector('#id1 > div > div > div > div > div > table > tbody > tr > td:nth-child(1) > a').click()\n",
        "\n",
        "      WebDriverWait(wd, 5).until(EC.url_changes(current_url))\n",
        "      result = wd.find_element_by_css_selector('#expiryDate')\n",
        "      print(result.get_attribute('value'), round(time.time()-st,2))\n",
        "      #wd.save_screenshot('screenie3.png')\n",
        "    except:\n",
        "      print('no rego found', round(time.time()-st,2))\n",
        "      #wd.save_screenshot('screenie4.png')"
      ],
      "execution_count": 4,
      "outputs": []
    },
    {
      "cell_type": "code",
      "metadata": {
        "id": "sbKl5YAyWJ_D",
        "colab_type": "code",
        "colab": {}
      },
      "source": [
        "def SA(rego):\n",
        "  st=time.time()\n",
        "  with webdriver.Chrome('chromedriver',options=chrome_options) as wd:\n",
        "    wd.get('https://account.ezyreg.sa.gov.au/account/check-registration.htm')\n",
        "    WebDriverWait(wd, 15).until(EC.element_to_be_clickable((By.CSS_SELECTOR,'#plateNumber')))\n",
        "    #current_url = wd.current_url\n",
        "    element = wd.find_element_by_xpath(\"//input[@id='plateNumber']\")\n",
        "    element.send_keys(rego)\n",
        "    element.send_keys(Keys.RETURN)\n",
        "    try:\n",
        "      WebDriverWait(wd, 10).until(EC.presence_of_element_located((By.CSS_SELECTOR, '#registration-details-single > div:nth-child(1) > div.col-sm-6.col-xs-6.text-left > div')))\n",
        "      result = wd.find_element_by_css_selector('#registration-details-single > div:nth-child(1) > div.col-sm-6.col-xs-6.text-left > div')\n",
        "      print(result.get_attribute(\"textContent\"), round(time.time()-st,2))\n",
        "    except:\n",
        "      print('no rego found', round(time.time()-st,2))\n",
        "      wd.save_screenshot('screenie4.png')"
      ],
      "execution_count": 5,
      "outputs": []
    },
    {
      "cell_type": "code",
      "metadata": {
        "id": "VMbBXthJT5rK",
        "colab_type": "code",
        "colab": {}
      },
      "source": [
        "def nsw(rego):\n",
        "  st=time.time()\n",
        "  with webdriver.Chrome('chromedriver',options=chrome_options) as wd:\n",
        "    wd.get('https://my.service.nsw.gov.au/MyServiceNSW/index#/rms/freeRegoCheck/details')\n",
        "    WebDriverWait(wd, 15).until(EC.presence_of_element_located((By.XPATH, './/*[contains(@id, \"_input_plateNumber_\")]')))\n",
        "    element = wd.find_element_by_xpath('.//*[contains(@id, \"_input_plateNumber_\")]')\n",
        "    \n",
        "    wd.find_element_by_id('formly_2_checkbox-label-with-action_termsAndConditions_1').click() #Checkbox ticked\n",
        "    element.send_keys(rego)\n",
        "    current_url = wd.current_url\n",
        "    element.submit()\n",
        "    #wd.find_element_by_xpath('/html/body/div[3]/div/div/div/div/div/div[2]/free-rego-check-details/form/div[3]/button').click()\n",
        "    try:\n",
        "      WebDriverWait(wd, 5).until(EC.url_changes(current_url))\n",
        "      #wd.save_screenshot('screenie5.png')\n",
        "      result = wd.find_element_by_css_selector('body > div.container > div > div > div > div > div > div.ng-scope > free-rego-check-display > div:nth-child(3) > div > div:nth-child(6) > div:nth-child(2) > div:nth-child(4) > strong').text\n",
        "      print(result, round(time.time()-st,2)) #result[-3]\n",
        "      data['nsw'] = result, round(time.time()-st,2)\n",
        "    except:\n",
        "      print ('no rego found', round(time.time()-st,2))\n",
        "      #wd.save_screenshot('screenie5.png')\n",
        "      #data['nsw'] = \"no rego found\", round(time.time()-st,2)\n",
        "\n"
      ],
      "execution_count": 6,
      "outputs": []
    },
    {
      "cell_type": "code",
      "metadata": {
        "id": "_rdJpcwsT5tt",
        "colab_type": "code",
        "colab": {}
      },
      "source": [
        "def vic(rego):\n",
        "  st=time.time()\n",
        "  with webdriver.Chrome('chromedriver',options=chrome_options) as wd:\n",
        "    wd.get('https://www.vicroads.vic.gov.au/registration/buy-sell-or-transfer-a-vehicle/check-vehicle-registration/vehicle-registration-enquiry')\n",
        "\n",
        "    element = wd.find_element_by_xpath('.//*[contains(@id, \"RegistrationNumber_CtrlHolderDivShown\")]') #if ID contains\n",
        "    element.send_keys(rego)\n",
        "    element = wd.find_element_by_xpath('.//*[contains(@id, \"panel_btnSearch\")]').click()\n",
        "    #time.sleep(1)\n",
        "    src = str(BeautifulSoup(wd.page_source).find_all(attrs={'class': 'detail-module'}))\n",
        "    start= ' expiry date:</label>\\n<div class=\"display\"> '\n",
        "    end = '</div>\\n</div>\\n<div'\n",
        "    try:\n",
        "      result = re.search('%s(.*)%s' % (start, end), src).group(1)\n",
        "      print(result, round(time.time()-st,2))\n",
        "      data['vic'] = result, round(time.time()-st,2)\n",
        "    except:\n",
        "      print ('no rego found', round(time.time()-st,2))\n",
        "      #data['vic'] = \"no rego found\", round(time.time()-st,2)\n",
        "    #model = re.search('%s(.*)%s' % (start2, end), src).group(1)\n",
        "    #VIN = re.search('%s(.*)%s' % (start3, end), src).group(1)\n",
        "    #engine = re.search('%s(.*)%s' % (start4, end), src).group(1)"
      ],
      "execution_count": 7,
      "outputs": []
    },
    {
      "cell_type": "code",
      "metadata": {
        "id": "Zzufaq6mT5wG",
        "colab_type": "code",
        "colab": {
          "base_uri": "https://localhost:8080/",
          "height": 67
        },
        "outputId": "3b80d8d3-f620-43f7-9771-95ca9ebe3674"
      },
      "source": [
        "data = {\"vic\": None, \"nsw\": None, \"SA\": None}\n",
        "import concurrent.futures\n",
        "from concurrent.futures import ThreadPoolExecutor, ProcessPoolExecutor, wait, as_completed\n",
        "st = time.time()\n",
        "exec_list = []\n",
        "\n",
        "with ThreadPoolExecutor(max_workers=4) as executor:\n",
        "    future1=executor.submit(vic, 'ARR655')\n",
        "    future2=executor.submit(nsw, 'ARR655')\n",
        "    future3=executor.submit(SA, 'ARR655')\n",
        "    #executors_list.append(executor.submit(my_func3, arg1, arg2))\n",
        "\n",
        "    while True:\n",
        "      if any(v is not None for v in data.values()):\n",
        "        executor._threads.clear()\n",
        "        concurrent.futures.thread._threads_queues.clear()\n",
        "        break\n",
        "        #sys.exit()\n",
        "\n",
        "print(data ,round(time.time()-st,2))"
      ],
      "execution_count": 8,
      "outputs": [
        {
          "output_type": "stream",
          "text": [
            "no rego found 12.47\n",
            "Current - 11/12/2020 14.71\n",
            "{'vic': ('Current - 11/12/2020', 14.71), 'nsw': None, 'SA': None} 14.72\n"
          ],
          "name": "stdout"
        }
      ]
    },
    {
      "cell_type": "code",
      "metadata": {
        "id": "f--1Dg9kK-k7",
        "colab_type": "code",
        "colab": {}
      },
      "source": [
        ""
      ],
      "execution_count": null,
      "outputs": []
    }
  ]
}